{
 "cells": [
  {
   "cell_type": "code",
   "execution_count": 2,
   "metadata": {},
   "outputs": [],
   "source": [
    "import pandas as pd\n",
    "import matplotlib.pyplot as plt"
   ]
  },
  {
   "cell_type": "code",
   "execution_count": 3,
   "metadata": {},
   "outputs": [],
   "source": [
    "data_6 = [[float(i) for i in l.split()] for l in open(\"ecutwfc_CT/data.txt\",'r').readlines()[4:]]"
   ]
  },
  {
   "cell_type": "code",
   "execution_count": 4,
   "metadata": {},
   "outputs": [],
   "source": [
    "ecutwfc1, energy1 = zip(*data_6)"
   ]
  },
  {
   "cell_type": "code",
   "execution_count": 5,
   "metadata": {},
   "outputs": [
    {
     "data": {
      "image/png": "[encoded data removed]",
      "text/plain": [
       "<Figure size 432x288 with 1 Axes>"
      ]
     },
     "metadata": {
      "needs_background": "light"
     },
     "output_type": "display_data"
    },
    {
     "data": {
      "text/plain": [
       "<Figure size 432x288 with 0 Axes>"
      ]
     },
     "metadata": {},
     "output_type": "display_data"
    }
   ],
   "source": [
    "plt.plot(ecutwfc1, energy1)\n",
    "font1 = {'family':'serif','color':'Black','size':12}\n",
    "font2 = {'family':'serif','color':'Black','size':16}\n",
    "# plt.title(\"MoS2 - varying kinetic energy cut off\",fontdict = font1)\n",
    "plt.xlabel(\"ecutwfc (Ry)\",fontdict = font2)\n",
    "plt.ylabel(\"Total Energy (Ry)\",fontdict = font2)\n",
    "plt.ticklabel_format(useOffset=False)\n",
    "plt.show()\n",
    "plt.savefig('MoS2_CT_ecut.jpeg')"
   ]
  },
  {
   "cell_type": "code",
   "execution_count": 6,
   "metadata": {},
   "outputs": [
    {
     "data": {
      "text/plain": [
       "(-489.75651098,\n",
       " -489.75683111,\n",
       " -489.75696543,\n",
       " -489.75705704,\n",
       " -489.75730204,\n",
       " -489.75744395,\n",
       " -489.75757456,\n",
       " -489.75768237,\n",
       " -489.75776343,\n",
       " -489.75781656,\n",
       " -489.75784683,\n",
       " -489.75786308,\n",
       " -489.75787436,\n",
       " -489.75788717,\n",
       " -489.75790343,\n",
       " -489.75792337,\n",
       " -489.75794528,\n",
       " -489.75796763,\n",
       " -489.75798904,\n",
       " -489.75800852,\n",
       " -489.75802471,\n",
       " -489.75803702,\n",
       " -489.7580457,\n",
       " -489.75806077,\n",
       " -489.75806361,\n",
       " -489.75806702,\n",
       " -489.75807113,\n",
       " -489.75807589,\n",
       " -489.75808112,\n",
       " -489.75808659,\n",
       " -489.75809199,\n",
       " -489.75809709,\n",
       " -489.75810164,\n",
       " -489.75810548,\n",
       " -489.75810853,\n",
       " -489.75811086,\n",
       " -489.75811249,\n",
       " -489.75811359,\n",
       " -489.7581143,\n",
       " -489.75811487,\n",
       " -489.75811541,\n",
       " -489.75811606,\n",
       " -489.75811693,\n",
       " -489.75811803)"
      ]
     },
     "execution_count": 6,
     "metadata": {},
     "output_type": "execute_result"
    }
   ],
   "source": [
    "energy1"
   ]
  },
  {
   "cell_type": "code",
   "execution_count": null,
   "metadata": {},
   "outputs": [],
   "source": []
  }
 ],
 "metadata": {
  "interpreter": {
   "hash": "38cca0c38332a56087b24af0bc80247f4fced29cb4f7f437d91dc159adec9c4e"
  },
  "kernelspec": {
   "display_name": "Python 3.8.8 64-bit (conda)",
   "name": "python3"
  },
  "language_info": {
   "codemirror_mode": {
    "name": "ipython",
    "version": 3
   },
   "file_extension": ".py",
   "mimetype": "text/x-python",
   "name": "python",
   "nbconvert_exporter": "python",
   "pygments_lexer": "ipython3",
   "version": "3.8.8"
  },
  "orig_nbformat": 4
 },
 "nbformat": 4,
 "nbformat_minor": 2
}
